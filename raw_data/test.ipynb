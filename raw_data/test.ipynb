{
 "cells": [
  {
   "cell_type": "code",
   "execution_count": null,
   "id": "dc3eb8ac",
   "metadata": {},
   "outputs": [],
   "source": [
    "import gzip\n",
    "import numpy as np\n",
    "from glob import glob\n",
    "import pandas as pd\n",
    "from io import StringIO\n",
    "from os.path import basename\n",
    "import matplotlib.pyplot as plt\n",
    "from scipy import interpolate\n",
    "from os.path import join as fullfile\n",
    "from tqdm import tqdm\n",
    "import os\n",
    "import cv2"
   ]
  },
  {
   "cell_type": "code",
   "execution_count": null,
   "id": "1448e80f",
   "metadata": {},
   "outputs": [],
   "source": [
    "img_dir = glob('/hdd1/Projects/yqiu_intern/March2021_Appen/TrustVideos/TrustSemanticSegementation/*v3/images', recursive = False)"
   ]
  },
  {
   "cell_type": "code",
   "execution_count": null,
   "id": "0c379b4b",
   "metadata": {},
   "outputs": [],
   "source": [
    "# Read jsom file of objID\n",
    "\n",
    "  \n",
    "import json\n",
    "  \n",
    "# Opening JSON file\n",
    "f = open('objID_2_rgb_map.json',)\n",
    "  \n",
    "# returns JSON object as \n",
    "# a dictionary\n",
    "data = json.load(f)\n",
    "  \n",
    "  \n",
    "# Closing file\n",
    "f.close()\n",
    "inv_data = {v: int(k) for k, v in data.items()}\n",
    "inv_data['[255, 0, 0]'] = 30\n",
    "inv_data['[0, 255, 0]'] = 220 # 90 \n",
    "inv_data['[0, 0, 255]'] = 230\n",
    "inv_data['[0, 0, 0]'] = 210 # 180 "
   ]
  },
  {
   "cell_type": "code",
   "execution_count": null,
   "id": "54faf44e",
   "metadata": {},
   "outputs": [],
   "source": [
    "def add_mask(seg_img):\n",
    "#     seg_img = cv2.imread(seg_img_path + Synced_df['ImageFile'].values[i])\n",
    "        # draw a polygon for Dashboard\n",
    "    vertices = np.array([[0, 310], [222, 545], [636, 468], [900,468], [1280,505], [1280,720], [0, 720]], np.int32)\n",
    "        # vertices = np.array([[480, 400], [250, 650], [600, 650]], np.int32)\n",
    "    pts = vertices.reshape((-1, 1, 2))\n",
    "    cv2.polylines(seg_img, [pts], isClosed=False, color=(188, 210, 253), thickness=0)\n",
    "        # fill it\n",
    "    cv2.fillPoly(seg_img, [pts], color=(188, 210, 253))\n",
    "\n",
    "        # draw a circle for Speed # color (0, 0, 0)\n",
    "    circle_speed_w, circle_speed_h = 243, 210\n",
    "    circle_speed_radius = 50\n",
    "    cv2.circle(seg_img,(circle_speed_w,circle_speed_h),circle_speed_radius,(0, 0, 0),thickness=-1)\n",
    "\n",
    "        # draw a circle for Arrow # color (0, 255, 0)\n",
    "    circle_arrow_w, circle_arrow_h = 775, 552\n",
    "    circle_arrow_radius = 30\n",
    "    cv2.circle(seg_img,(circle_arrow_w,circle_arrow_h),circle_arrow_radius,(0, 0, 255),thickness=-1)\n",
    "\n",
    "        # draw a circle for Speedometer\n",
    "    circle_speedoMeter_w, circle_speedoMeter_h = 410, 648\n",
    "    circle_speedoMeter_radius = 70\n",
    "    cv2.circle(seg_img,(circle_speedoMeter_w,circle_speedoMeter_h),circle_speedoMeter_radius,(0, 0, 0),thickness=-1)\n",
    "        #save new segmentation image\n",
    "#     cv2.imwrite('segmentaion_img_with_mask/'+Synced_df['ImageFile'].values[i], seg_img)\n",
    "        \n",
    "#     Added_image = cv2.addWeighted(seg_img,0.5,rgb_img,1,0)\n",
    "    return seg_img\n",
    "\n",
    "def create_seg_img(seg_img, scale_percent):\n",
    "    width = int(seg_img.shape[1] * scale_percent / 100)\n",
    "    height = int(seg_img.shape[0] * scale_percent / 100)\n",
    "    dim = (width, height)\n",
    "\n",
    "    resized_seg_img = cv2.resize(seg_img, dim, interpolation = cv2.INTER_NEAREST)\n",
    "    gray_img = np.zeros((height, width))\n",
    "\n",
    "    for i in range(len(resized_seg_img)): # 270\n",
    "        for j in range(len(resized_seg_img[0])): # 480\n",
    "            inv_data_key = str(list(resized_seg_img[i, j, :]))\n",
    "            gray_img[i][j] = int(inv_data[inv_data_key])/255\n",
    "    \n",
    "    return gray_img # 1 channel image"
   ]
  },
  {
   "cell_type": "code",
   "execution_count": null,
   "id": "37a9e9f4",
   "metadata": {},
   "outputs": [],
   "source": [
    "for folder in img_dir:\n",
    "    print(folder)\n",
    "    imgs = glob(folder + '/**', recursive = False)\n",
    "    for img in imgs:\n",
    "#         print(img[-31:])\n",
    "        seg_img = cv2.imread(img)\n",
    "        seg_img_msk = add_mask(seg_img)\n",
    "        seg_img = create_seg_img(seg_img_msk, 100)\n",
    "        cv2.imwrite('/home/yqiu/Yuning_HRI_Intern/data/seg_img_720_1280_new_dash/'+img[-31:], seg_img*255)\n",
    "\n",
    "        \n",
    "\n"
   ]
  }
 ],
 "metadata": {
  "kernelspec": {
   "display_name": "Python 3",
   "language": "python",
   "name": "python3"
  },
  "language_info": {
   "codemirror_mode": {
    "name": "ipython",
    "version": 3
   },
   "file_extension": ".py",
   "mimetype": "text/x-python",
   "name": "python",
   "nbconvert_exporter": "python",
   "pygments_lexer": "ipython3",
   "version": "3.8.8"
  }
 },
 "nbformat": 4,
 "nbformat_minor": 5
}
